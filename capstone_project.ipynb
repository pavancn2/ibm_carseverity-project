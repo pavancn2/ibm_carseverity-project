{
 "cells": [
  {
   "cell_type": "markdown",
   "metadata": {},
   "source": [
    "# capstone project"
   ]
  },
  {
   "cell_type": "code",
   "execution_count": 1,
   "metadata": {},
   "outputs": [],
   "source": [
    "#write something about this notebook."
   ]
  },
  {
   "cell_type": "markdown",
   "metadata": {},
   "source": [
    "This notebook will be mainly used for capstone project for IBM Applied Data Science Capstone Project on Coursera"
   ]
  },
  {
   "cell_type": "code",
   "execution_count": 1,
   "metadata": {},
   "outputs": [],
   "source": [
    "#import the pandas library as pd\n",
    "import pandas as pd"
   ]
  },
  {
   "cell_type": "code",
   "execution_count": 2,
   "metadata": {},
   "outputs": [],
   "source": [
    "#import the numpy library as np\n",
    "import numpy as np"
   ]
  },
  {
   "cell_type": "code",
   "execution_count": 3,
   "metadata": {},
   "outputs": [
    {
     "name": "stdout",
     "output_type": "stream",
     "text": [
      "Hello Capstone Project Course!\n"
     ]
    }
   ],
   "source": [
    "#print the following statement : Hello Capstone Project Course!\n",
    "print(\"Hello Capstone Project Course!\")"
   ]
  },
  {
   "cell_type": "markdown",
   "metadata": {},
   "source": [
    "# This is Capstone Project course introductory notebook. I will also use it further in the Capstone if not instructed otherwise\n"
   ]
  },
  {
   "cell_type": "code",
   "execution_count": 18,
   "metadata": {},
   "outputs": [
    {
     "data": {
      "text/plain": [
       "'C:\\\\Users\\\\thoutampavan\\\\Documents\\\\IBM DATA SCIENCE\\\\notebooks\\\\Data-Collisions.csv'"
      ]
     },
     "execution_count": 18,
     "metadata": {},
     "output_type": "execute_result"
    }
   ],
   "source": [
    "import os\n",
    "import matplotlib.pyplot as plt\n",
    "%matplotlib inline\n",
    "os.path.abspath('Data-Collisions.csv')"
   ]
  },
  {
   "cell_type": "code",
   "execution_count": 5,
   "metadata": {},
   "outputs": [
    {
     "name": "stderr",
     "output_type": "stream",
     "text": [
      "C:\\Users\\thoutampavan\\Anaconda3\\lib\\site-packages\\IPython\\core\\interactiveshell.py:2785: DtypeWarning: Columns (33) have mixed types. Specify dtype option on import or set low_memory=False.\n",
      "  interactivity=interactivity, compiler=compiler, result=result)\n"
     ]
    },
    {
     "data": {
      "text/html": [
       "<div>\n",
       "<style scoped>\n",
       "    .dataframe tbody tr th:only-of-type {\n",
       "        vertical-align: middle;\n",
       "    }\n",
       "\n",
       "    .dataframe tbody tr th {\n",
       "        vertical-align: top;\n",
       "    }\n",
       "\n",
       "    .dataframe thead th {\n",
       "        text-align: right;\n",
       "    }\n",
       "</style>\n",
       "<table border=\"1\" class=\"dataframe\">\n",
       "  <thead>\n",
       "    <tr style=\"text-align: right;\">\n",
       "      <th></th>\n",
       "      <th>SEVERITYCODE</th>\n",
       "      <th>X</th>\n",
       "      <th>Y</th>\n",
       "      <th>OBJECTID</th>\n",
       "      <th>INCKEY</th>\n",
       "      <th>COLDETKEY</th>\n",
       "      <th>REPORTNO</th>\n",
       "      <th>STATUS</th>\n",
       "      <th>ADDRTYPE</th>\n",
       "      <th>INTKEY</th>\n",
       "      <th>...</th>\n",
       "      <th>ROADCOND</th>\n",
       "      <th>LIGHTCOND</th>\n",
       "      <th>PEDROWNOTGRNT</th>\n",
       "      <th>SDOTCOLNUM</th>\n",
       "      <th>SPEEDING</th>\n",
       "      <th>ST_COLCODE</th>\n",
       "      <th>ST_COLDESC</th>\n",
       "      <th>SEGLANEKEY</th>\n",
       "      <th>CROSSWALKKEY</th>\n",
       "      <th>HITPARKEDCAR</th>\n",
       "    </tr>\n",
       "  </thead>\n",
       "  <tbody>\n",
       "    <tr>\n",
       "      <th>0</th>\n",
       "      <td>2</td>\n",
       "      <td>-122.323148</td>\n",
       "      <td>47.703140</td>\n",
       "      <td>1</td>\n",
       "      <td>1307</td>\n",
       "      <td>1307</td>\n",
       "      <td>3502005</td>\n",
       "      <td>Matched</td>\n",
       "      <td>Intersection</td>\n",
       "      <td>37475.0</td>\n",
       "      <td>...</td>\n",
       "      <td>Wet</td>\n",
       "      <td>Daylight</td>\n",
       "      <td>NaN</td>\n",
       "      <td>NaN</td>\n",
       "      <td>NaN</td>\n",
       "      <td>10</td>\n",
       "      <td>Entering at angle</td>\n",
       "      <td>0</td>\n",
       "      <td>0</td>\n",
       "      <td>N</td>\n",
       "    </tr>\n",
       "    <tr>\n",
       "      <th>1</th>\n",
       "      <td>1</td>\n",
       "      <td>-122.347294</td>\n",
       "      <td>47.647172</td>\n",
       "      <td>2</td>\n",
       "      <td>52200</td>\n",
       "      <td>52200</td>\n",
       "      <td>2607959</td>\n",
       "      <td>Matched</td>\n",
       "      <td>Block</td>\n",
       "      <td>NaN</td>\n",
       "      <td>...</td>\n",
       "      <td>Wet</td>\n",
       "      <td>Dark - Street Lights On</td>\n",
       "      <td>NaN</td>\n",
       "      <td>6354039.0</td>\n",
       "      <td>NaN</td>\n",
       "      <td>11</td>\n",
       "      <td>From same direction - both going straight - bo...</td>\n",
       "      <td>0</td>\n",
       "      <td>0</td>\n",
       "      <td>N</td>\n",
       "    </tr>\n",
       "    <tr>\n",
       "      <th>2</th>\n",
       "      <td>1</td>\n",
       "      <td>-122.334540</td>\n",
       "      <td>47.607871</td>\n",
       "      <td>3</td>\n",
       "      <td>26700</td>\n",
       "      <td>26700</td>\n",
       "      <td>1482393</td>\n",
       "      <td>Matched</td>\n",
       "      <td>Block</td>\n",
       "      <td>NaN</td>\n",
       "      <td>...</td>\n",
       "      <td>Dry</td>\n",
       "      <td>Daylight</td>\n",
       "      <td>NaN</td>\n",
       "      <td>4323031.0</td>\n",
       "      <td>NaN</td>\n",
       "      <td>32</td>\n",
       "      <td>One parked--one moving</td>\n",
       "      <td>0</td>\n",
       "      <td>0</td>\n",
       "      <td>N</td>\n",
       "    </tr>\n",
       "    <tr>\n",
       "      <th>3</th>\n",
       "      <td>1</td>\n",
       "      <td>-122.334803</td>\n",
       "      <td>47.604803</td>\n",
       "      <td>4</td>\n",
       "      <td>1144</td>\n",
       "      <td>1144</td>\n",
       "      <td>3503937</td>\n",
       "      <td>Matched</td>\n",
       "      <td>Block</td>\n",
       "      <td>NaN</td>\n",
       "      <td>...</td>\n",
       "      <td>Dry</td>\n",
       "      <td>Daylight</td>\n",
       "      <td>NaN</td>\n",
       "      <td>NaN</td>\n",
       "      <td>NaN</td>\n",
       "      <td>23</td>\n",
       "      <td>From same direction - all others</td>\n",
       "      <td>0</td>\n",
       "      <td>0</td>\n",
       "      <td>N</td>\n",
       "    </tr>\n",
       "    <tr>\n",
       "      <th>4</th>\n",
       "      <td>2</td>\n",
       "      <td>-122.306426</td>\n",
       "      <td>47.545739</td>\n",
       "      <td>5</td>\n",
       "      <td>17700</td>\n",
       "      <td>17700</td>\n",
       "      <td>1807429</td>\n",
       "      <td>Matched</td>\n",
       "      <td>Intersection</td>\n",
       "      <td>34387.0</td>\n",
       "      <td>...</td>\n",
       "      <td>Wet</td>\n",
       "      <td>Daylight</td>\n",
       "      <td>NaN</td>\n",
       "      <td>4028032.0</td>\n",
       "      <td>NaN</td>\n",
       "      <td>10</td>\n",
       "      <td>Entering at angle</td>\n",
       "      <td>0</td>\n",
       "      <td>0</td>\n",
       "      <td>N</td>\n",
       "    </tr>\n",
       "  </tbody>\n",
       "</table>\n",
       "<p>5 rows × 38 columns</p>\n",
       "</div>"
      ],
      "text/plain": [
       "   SEVERITYCODE           X          Y  OBJECTID  INCKEY  COLDETKEY REPORTNO  \\\n",
       "0             2 -122.323148  47.703140         1    1307       1307  3502005   \n",
       "1             1 -122.347294  47.647172         2   52200      52200  2607959   \n",
       "2             1 -122.334540  47.607871         3   26700      26700  1482393   \n",
       "3             1 -122.334803  47.604803         4    1144       1144  3503937   \n",
       "4             2 -122.306426  47.545739         5   17700      17700  1807429   \n",
       "\n",
       "    STATUS      ADDRTYPE   INTKEY      ...      ROADCOND  \\\n",
       "0  Matched  Intersection  37475.0      ...           Wet   \n",
       "1  Matched         Block      NaN      ...           Wet   \n",
       "2  Matched         Block      NaN      ...           Dry   \n",
       "3  Matched         Block      NaN      ...           Dry   \n",
       "4  Matched  Intersection  34387.0      ...           Wet   \n",
       "\n",
       "                 LIGHTCOND PEDROWNOTGRNT  SDOTCOLNUM SPEEDING ST_COLCODE  \\\n",
       "0                 Daylight           NaN         NaN      NaN         10   \n",
       "1  Dark - Street Lights On           NaN   6354039.0      NaN         11   \n",
       "2                 Daylight           NaN   4323031.0      NaN         32   \n",
       "3                 Daylight           NaN         NaN      NaN         23   \n",
       "4                 Daylight           NaN   4028032.0      NaN         10   \n",
       "\n",
       "                                          ST_COLDESC  SEGLANEKEY  \\\n",
       "0                                  Entering at angle           0   \n",
       "1  From same direction - both going straight - bo...           0   \n",
       "2                             One parked--one moving           0   \n",
       "3                   From same direction - all others           0   \n",
       "4                                  Entering at angle           0   \n",
       "\n",
       "   CROSSWALKKEY  HITPARKEDCAR  \n",
       "0             0             N  \n",
       "1             0             N  \n",
       "2             0             N  \n",
       "3             0             N  \n",
       "4             0             N  \n",
       "\n",
       "[5 rows x 38 columns]"
      ]
     },
     "execution_count": 5,
     "metadata": {},
     "output_type": "execute_result"
    }
   ],
   "source": [
    "data = pd.read_csv('C:\\\\Users\\\\thoutampavan\\\\Downloads\\\\Data-Collisions.csv')\n",
    "data.head()"
   ]
  },
  {
   "cell_type": "code",
   "execution_count": 6,
   "metadata": {},
   "outputs": [
    {
     "data": {
      "text/plain": [
       "SEVERITYCODE        int64\n",
       "X                 float64\n",
       "Y                 float64\n",
       "OBJECTID            int64\n",
       "INCKEY              int64\n",
       "COLDETKEY           int64\n",
       "REPORTNO           object\n",
       "STATUS             object\n",
       "ADDRTYPE           object\n",
       "INTKEY            float64\n",
       "LOCATION           object\n",
       "EXCEPTRSNCODE      object\n",
       "EXCEPTRSNDESC      object\n",
       "SEVERITYCODE.1      int64\n",
       "SEVERITYDESC       object\n",
       "COLLISIONTYPE      object\n",
       "PERSONCOUNT         int64\n",
       "PEDCOUNT            int64\n",
       "PEDCYLCOUNT         int64\n",
       "VEHCOUNT            int64\n",
       "INCDATE            object\n",
       "INCDTTM            object\n",
       "JUNCTIONTYPE       object\n",
       "SDOT_COLCODE        int64\n",
       "SDOT_COLDESC       object\n",
       "INATTENTIONIND     object\n",
       "UNDERINFL          object\n",
       "WEATHER            object\n",
       "ROADCOND           object\n",
       "LIGHTCOND          object\n",
       "PEDROWNOTGRNT      object\n",
       "SDOTCOLNUM        float64\n",
       "SPEEDING           object\n",
       "ST_COLCODE         object\n",
       "ST_COLDESC         object\n",
       "SEGLANEKEY          int64\n",
       "CROSSWALKKEY        int64\n",
       "HITPARKEDCAR       object\n",
       "dtype: object"
      ]
     },
     "execution_count": 6,
     "metadata": {},
     "output_type": "execute_result"
    }
   ],
   "source": [
    "data.dtypes"
   ]
  },
  {
   "cell_type": "code",
   "execution_count": 7,
   "metadata": {},
   "outputs": [
    {
     "data": {
      "text/plain": [
       "(194673, 38)"
      ]
     },
     "execution_count": 7,
     "metadata": {},
     "output_type": "execute_result"
    }
   ],
   "source": [
    "data.shape"
   ]
  },
  {
   "cell_type": "code",
   "execution_count": 8,
   "metadata": {},
   "outputs": [
    {
     "data": {
      "text/html": [
       "<div>\n",
       "<style scoped>\n",
       "    .dataframe tbody tr th:only-of-type {\n",
       "        vertical-align: middle;\n",
       "    }\n",
       "\n",
       "    .dataframe tbody tr th {\n",
       "        vertical-align: top;\n",
       "    }\n",
       "\n",
       "    .dataframe thead th {\n",
       "        text-align: right;\n",
       "    }\n",
       "</style>\n",
       "<table border=\"1\" class=\"dataframe\">\n",
       "  <thead>\n",
       "    <tr style=\"text-align: right;\">\n",
       "      <th></th>\n",
       "      <th>SEVERITYCODE</th>\n",
       "      <th>X</th>\n",
       "      <th>Y</th>\n",
       "      <th>OBJECTID</th>\n",
       "      <th>INCKEY</th>\n",
       "      <th>COLDETKEY</th>\n",
       "      <th>INTKEY</th>\n",
       "      <th>SEVERITYCODE.1</th>\n",
       "      <th>PERSONCOUNT</th>\n",
       "      <th>PEDCOUNT</th>\n",
       "      <th>PEDCYLCOUNT</th>\n",
       "      <th>VEHCOUNT</th>\n",
       "      <th>SDOT_COLCODE</th>\n",
       "      <th>SDOTCOLNUM</th>\n",
       "      <th>SEGLANEKEY</th>\n",
       "      <th>CROSSWALKKEY</th>\n",
       "    </tr>\n",
       "  </thead>\n",
       "  <tbody>\n",
       "    <tr>\n",
       "      <th>count</th>\n",
       "      <td>194673.000000</td>\n",
       "      <td>189339.000000</td>\n",
       "      <td>189339.000000</td>\n",
       "      <td>194673.000000</td>\n",
       "      <td>194673.000000</td>\n",
       "      <td>194673.000000</td>\n",
       "      <td>65070.000000</td>\n",
       "      <td>194673.000000</td>\n",
       "      <td>194673.000000</td>\n",
       "      <td>194673.000000</td>\n",
       "      <td>194673.000000</td>\n",
       "      <td>194673.000000</td>\n",
       "      <td>194673.000000</td>\n",
       "      <td>1.149360e+05</td>\n",
       "      <td>194673.000000</td>\n",
       "      <td>1.946730e+05</td>\n",
       "    </tr>\n",
       "    <tr>\n",
       "      <th>mean</th>\n",
       "      <td>1.298901</td>\n",
       "      <td>-122.330518</td>\n",
       "      <td>47.619543</td>\n",
       "      <td>108479.364930</td>\n",
       "      <td>141091.456350</td>\n",
       "      <td>141298.811381</td>\n",
       "      <td>37558.450576</td>\n",
       "      <td>1.298901</td>\n",
       "      <td>2.444427</td>\n",
       "      <td>0.037139</td>\n",
       "      <td>0.028391</td>\n",
       "      <td>1.920780</td>\n",
       "      <td>13.867768</td>\n",
       "      <td>7.972521e+06</td>\n",
       "      <td>269.401114</td>\n",
       "      <td>9.782452e+03</td>\n",
       "    </tr>\n",
       "    <tr>\n",
       "      <th>std</th>\n",
       "      <td>0.457778</td>\n",
       "      <td>0.029976</td>\n",
       "      <td>0.056157</td>\n",
       "      <td>62649.722558</td>\n",
       "      <td>86634.402737</td>\n",
       "      <td>86986.542110</td>\n",
       "      <td>51745.990273</td>\n",
       "      <td>0.457778</td>\n",
       "      <td>1.345929</td>\n",
       "      <td>0.198150</td>\n",
       "      <td>0.167413</td>\n",
       "      <td>0.631047</td>\n",
       "      <td>6.868755</td>\n",
       "      <td>2.553533e+06</td>\n",
       "      <td>3315.776055</td>\n",
       "      <td>7.226926e+04</td>\n",
       "    </tr>\n",
       "    <tr>\n",
       "      <th>min</th>\n",
       "      <td>1.000000</td>\n",
       "      <td>-122.419091</td>\n",
       "      <td>47.495573</td>\n",
       "      <td>1.000000</td>\n",
       "      <td>1001.000000</td>\n",
       "      <td>1001.000000</td>\n",
       "      <td>23807.000000</td>\n",
       "      <td>1.000000</td>\n",
       "      <td>0.000000</td>\n",
       "      <td>0.000000</td>\n",
       "      <td>0.000000</td>\n",
       "      <td>0.000000</td>\n",
       "      <td>0.000000</td>\n",
       "      <td>1.007024e+06</td>\n",
       "      <td>0.000000</td>\n",
       "      <td>0.000000e+00</td>\n",
       "    </tr>\n",
       "    <tr>\n",
       "      <th>25%</th>\n",
       "      <td>1.000000</td>\n",
       "      <td>-122.348673</td>\n",
       "      <td>47.575956</td>\n",
       "      <td>54267.000000</td>\n",
       "      <td>70383.000000</td>\n",
       "      <td>70383.000000</td>\n",
       "      <td>28667.000000</td>\n",
       "      <td>1.000000</td>\n",
       "      <td>2.000000</td>\n",
       "      <td>0.000000</td>\n",
       "      <td>0.000000</td>\n",
       "      <td>2.000000</td>\n",
       "      <td>11.000000</td>\n",
       "      <td>6.040015e+06</td>\n",
       "      <td>0.000000</td>\n",
       "      <td>0.000000e+00</td>\n",
       "    </tr>\n",
       "    <tr>\n",
       "      <th>50%</th>\n",
       "      <td>1.000000</td>\n",
       "      <td>-122.330224</td>\n",
       "      <td>47.615369</td>\n",
       "      <td>106912.000000</td>\n",
       "      <td>123363.000000</td>\n",
       "      <td>123363.000000</td>\n",
       "      <td>29973.000000</td>\n",
       "      <td>1.000000</td>\n",
       "      <td>2.000000</td>\n",
       "      <td>0.000000</td>\n",
       "      <td>0.000000</td>\n",
       "      <td>2.000000</td>\n",
       "      <td>13.000000</td>\n",
       "      <td>8.023022e+06</td>\n",
       "      <td>0.000000</td>\n",
       "      <td>0.000000e+00</td>\n",
       "    </tr>\n",
       "    <tr>\n",
       "      <th>75%</th>\n",
       "      <td>2.000000</td>\n",
       "      <td>-122.311937</td>\n",
       "      <td>47.663664</td>\n",
       "      <td>162272.000000</td>\n",
       "      <td>203319.000000</td>\n",
       "      <td>203459.000000</td>\n",
       "      <td>33973.000000</td>\n",
       "      <td>2.000000</td>\n",
       "      <td>3.000000</td>\n",
       "      <td>0.000000</td>\n",
       "      <td>0.000000</td>\n",
       "      <td>2.000000</td>\n",
       "      <td>14.000000</td>\n",
       "      <td>1.015501e+07</td>\n",
       "      <td>0.000000</td>\n",
       "      <td>0.000000e+00</td>\n",
       "    </tr>\n",
       "    <tr>\n",
       "      <th>max</th>\n",
       "      <td>2.000000</td>\n",
       "      <td>-122.238949</td>\n",
       "      <td>47.734142</td>\n",
       "      <td>219547.000000</td>\n",
       "      <td>331454.000000</td>\n",
       "      <td>332954.000000</td>\n",
       "      <td>757580.000000</td>\n",
       "      <td>2.000000</td>\n",
       "      <td>81.000000</td>\n",
       "      <td>6.000000</td>\n",
       "      <td>2.000000</td>\n",
       "      <td>12.000000</td>\n",
       "      <td>69.000000</td>\n",
       "      <td>1.307202e+07</td>\n",
       "      <td>525241.000000</td>\n",
       "      <td>5.239700e+06</td>\n",
       "    </tr>\n",
       "  </tbody>\n",
       "</table>\n",
       "</div>"
      ],
      "text/plain": [
       "        SEVERITYCODE              X              Y       OBJECTID  \\\n",
       "count  194673.000000  189339.000000  189339.000000  194673.000000   \n",
       "mean        1.298901    -122.330518      47.619543  108479.364930   \n",
       "std         0.457778       0.029976       0.056157   62649.722558   \n",
       "min         1.000000    -122.419091      47.495573       1.000000   \n",
       "25%         1.000000    -122.348673      47.575956   54267.000000   \n",
       "50%         1.000000    -122.330224      47.615369  106912.000000   \n",
       "75%         2.000000    -122.311937      47.663664  162272.000000   \n",
       "max         2.000000    -122.238949      47.734142  219547.000000   \n",
       "\n",
       "              INCKEY      COLDETKEY         INTKEY  SEVERITYCODE.1  \\\n",
       "count  194673.000000  194673.000000   65070.000000   194673.000000   \n",
       "mean   141091.456350  141298.811381   37558.450576        1.298901   \n",
       "std     86634.402737   86986.542110   51745.990273        0.457778   \n",
       "min      1001.000000    1001.000000   23807.000000        1.000000   \n",
       "25%     70383.000000   70383.000000   28667.000000        1.000000   \n",
       "50%    123363.000000  123363.000000   29973.000000        1.000000   \n",
       "75%    203319.000000  203459.000000   33973.000000        2.000000   \n",
       "max    331454.000000  332954.000000  757580.000000        2.000000   \n",
       "\n",
       "         PERSONCOUNT       PEDCOUNT    PEDCYLCOUNT       VEHCOUNT  \\\n",
       "count  194673.000000  194673.000000  194673.000000  194673.000000   \n",
       "mean        2.444427       0.037139       0.028391       1.920780   \n",
       "std         1.345929       0.198150       0.167413       0.631047   \n",
       "min         0.000000       0.000000       0.000000       0.000000   \n",
       "25%         2.000000       0.000000       0.000000       2.000000   \n",
       "50%         2.000000       0.000000       0.000000       2.000000   \n",
       "75%         3.000000       0.000000       0.000000       2.000000   \n",
       "max        81.000000       6.000000       2.000000      12.000000   \n",
       "\n",
       "        SDOT_COLCODE    SDOTCOLNUM     SEGLANEKEY  CROSSWALKKEY  \n",
       "count  194673.000000  1.149360e+05  194673.000000  1.946730e+05  \n",
       "mean       13.867768  7.972521e+06     269.401114  9.782452e+03  \n",
       "std         6.868755  2.553533e+06    3315.776055  7.226926e+04  \n",
       "min         0.000000  1.007024e+06       0.000000  0.000000e+00  \n",
       "25%        11.000000  6.040015e+06       0.000000  0.000000e+00  \n",
       "50%        13.000000  8.023022e+06       0.000000  0.000000e+00  \n",
       "75%        14.000000  1.015501e+07       0.000000  0.000000e+00  \n",
       "max        69.000000  1.307202e+07  525241.000000  5.239700e+06  "
      ]
     },
     "execution_count": 8,
     "metadata": {},
     "output_type": "execute_result"
    }
   ],
   "source": [
    "data.describe()"
   ]
  },
  {
   "cell_type": "code",
   "execution_count": 9,
   "metadata": {},
   "outputs": [
    {
     "name": "stdout",
     "output_type": "stream",
     "text": [
      "<class 'pandas.core.frame.DataFrame'>\n",
      "RangeIndex: 194673 entries, 0 to 194672\n",
      "Data columns (total 38 columns):\n",
      "SEVERITYCODE      194673 non-null int64\n",
      "X                 189339 non-null float64\n",
      "Y                 189339 non-null float64\n",
      "OBJECTID          194673 non-null int64\n",
      "INCKEY            194673 non-null int64\n",
      "COLDETKEY         194673 non-null int64\n",
      "REPORTNO          194673 non-null object\n",
      "STATUS            194673 non-null object\n",
      "ADDRTYPE          192747 non-null object\n",
      "INTKEY            65070 non-null float64\n",
      "LOCATION          191996 non-null object\n",
      "EXCEPTRSNCODE     84811 non-null object\n",
      "EXCEPTRSNDESC     5638 non-null object\n",
      "SEVERITYCODE.1    194673 non-null int64\n",
      "SEVERITYDESC      194673 non-null object\n",
      "COLLISIONTYPE     189769 non-null object\n",
      "PERSONCOUNT       194673 non-null int64\n",
      "PEDCOUNT          194673 non-null int64\n",
      "PEDCYLCOUNT       194673 non-null int64\n",
      "VEHCOUNT          194673 non-null int64\n",
      "INCDATE           194673 non-null object\n",
      "INCDTTM           194673 non-null object\n",
      "JUNCTIONTYPE      188344 non-null object\n",
      "SDOT_COLCODE      194673 non-null int64\n",
      "SDOT_COLDESC      194673 non-null object\n",
      "INATTENTIONIND    29805 non-null object\n",
      "UNDERINFL         189789 non-null object\n",
      "WEATHER           189592 non-null object\n",
      "ROADCOND          189661 non-null object\n",
      "LIGHTCOND         189503 non-null object\n",
      "PEDROWNOTGRNT     4667 non-null object\n",
      "SDOTCOLNUM        114936 non-null float64\n",
      "SPEEDING          9333 non-null object\n",
      "ST_COLCODE        194655 non-null object\n",
      "ST_COLDESC        189769 non-null object\n",
      "SEGLANEKEY        194673 non-null int64\n",
      "CROSSWALKKEY      194673 non-null int64\n",
      "HITPARKEDCAR      194673 non-null object\n",
      "dtypes: float64(4), int64(12), object(22)\n",
      "memory usage: 56.4+ MB\n"
     ]
    }
   ],
   "source": [
    "data.info()"
   ]
  },
  {
   "cell_type": "markdown",
   "metadata": {},
   "source": [
    "# Data Understanding\n",
    "Our predictor or target variable will be 'SEVERITYCODE' because it is used to measure the severity of an accident from 0 to 4 within the dataset. Attributes used to weigh the severity of an accident are 'WEATHER', 'ROADCOND' and 'LIGHTCOND'.\n",
    "\n",
    "Severity codes are as follows:\n",
    "\n",
    "0 : Little to no Probability (Clear Conditions)\n",
    "1 : Very Low Probability - Chance or Property Damage\n",
    "2 : Low Probability - Chance of Injury\n",
    "3 : Mild Probability - Chance of Serious Injury\n",
    "4 : High Probability - Chance of Fatality"
   ]
  },
  {
   "cell_type": "markdown",
   "metadata": {},
   "source": [
    "# Extract Dataset & Convert\n",
    "From the summary of the data we see that the data types are coherent with their respective values, with the only exception of the date, and that some features have missing values.\n",
    "\n",
    "More than half of the values for the coordenates are missig, as well as roughly a 10% of the data regarding the road_num and more than a 50% of the remaining samples are a 0. Thus, to keep the amount of samples the mentioned features will be dropped.\n",
    "\n",
    "Few values are missing in some features such as the atmospheric conditions or road category.\n",
    "\n",
    "Missing values and outliers will be filled with the label for Other cases category if possible. If not the most frequent value of the feature will be applyed"
   ]
  },
  {
   "cell_type": "code",
   "execution_count": 10,
   "metadata": {},
   "outputs": [
    {
     "data": {
      "text/html": [
       "<div>\n",
       "<style scoped>\n",
       "    .dataframe tbody tr th:only-of-type {\n",
       "        vertical-align: middle;\n",
       "    }\n",
       "\n",
       "    .dataframe tbody tr th {\n",
       "        vertical-align: top;\n",
       "    }\n",
       "\n",
       "    .dataframe thead th {\n",
       "        text-align: right;\n",
       "    }\n",
       "</style>\n",
       "<table border=\"1\" class=\"dataframe\">\n",
       "  <thead>\n",
       "    <tr style=\"text-align: right;\">\n",
       "      <th></th>\n",
       "      <th>SEVERITYCODE</th>\n",
       "      <th>WEATHER</th>\n",
       "      <th>ROADCOND</th>\n",
       "      <th>LIGHTCOND</th>\n",
       "      <th>WEATHER_CAT</th>\n",
       "      <th>ROADCOND_CAT</th>\n",
       "      <th>LIGHTCOND_CAT</th>\n",
       "    </tr>\n",
       "  </thead>\n",
       "  <tbody>\n",
       "    <tr>\n",
       "      <th>0</th>\n",
       "      <td>2</td>\n",
       "      <td>Overcast</td>\n",
       "      <td>Wet</td>\n",
       "      <td>Daylight</td>\n",
       "      <td>4</td>\n",
       "      <td>8</td>\n",
       "      <td>5</td>\n",
       "    </tr>\n",
       "    <tr>\n",
       "      <th>1</th>\n",
       "      <td>1</td>\n",
       "      <td>Raining</td>\n",
       "      <td>Wet</td>\n",
       "      <td>Dark - Street Lights On</td>\n",
       "      <td>6</td>\n",
       "      <td>8</td>\n",
       "      <td>2</td>\n",
       "    </tr>\n",
       "    <tr>\n",
       "      <th>2</th>\n",
       "      <td>1</td>\n",
       "      <td>Overcast</td>\n",
       "      <td>Dry</td>\n",
       "      <td>Daylight</td>\n",
       "      <td>4</td>\n",
       "      <td>0</td>\n",
       "      <td>5</td>\n",
       "    </tr>\n",
       "    <tr>\n",
       "      <th>3</th>\n",
       "      <td>1</td>\n",
       "      <td>Clear</td>\n",
       "      <td>Dry</td>\n",
       "      <td>Daylight</td>\n",
       "      <td>1</td>\n",
       "      <td>0</td>\n",
       "      <td>5</td>\n",
       "    </tr>\n",
       "    <tr>\n",
       "      <th>4</th>\n",
       "      <td>2</td>\n",
       "      <td>Raining</td>\n",
       "      <td>Wet</td>\n",
       "      <td>Daylight</td>\n",
       "      <td>6</td>\n",
       "      <td>8</td>\n",
       "      <td>5</td>\n",
       "    </tr>\n",
       "  </tbody>\n",
       "</table>\n",
       "</div>"
      ],
      "text/plain": [
       "   SEVERITYCODE   WEATHER ROADCOND                LIGHTCOND  WEATHER_CAT  \\\n",
       "0             2  Overcast      Wet                 Daylight            4   \n",
       "1             1   Raining      Wet  Dark - Street Lights On            6   \n",
       "2             1  Overcast      Dry                 Daylight            4   \n",
       "3             1     Clear      Dry                 Daylight            1   \n",
       "4             2   Raining      Wet                 Daylight            6   \n",
       "\n",
       "   ROADCOND_CAT  LIGHTCOND_CAT  \n",
       "0             8              5  \n",
       "1             8              2  \n",
       "2             0              5  \n",
       "3             0              5  \n",
       "4             8              5  "
      ]
     },
     "execution_count": 10,
     "metadata": {},
     "output_type": "execute_result"
    }
   ],
   "source": [
    "# Drop all columns with no predictive value for the context of this project\n",
    "colData = data.drop(columns = ['OBJECTID', 'SEVERITYCODE.1', 'REPORTNO', 'INCKEY', 'COLDETKEY', \n",
    "              'X', 'Y', 'STATUS','ADDRTYPE',\n",
    "              'INTKEY', 'LOCATION', 'EXCEPTRSNCODE',\n",
    "              'EXCEPTRSNDESC', 'SEVERITYDESC', 'INCDATE',\n",
    "              'INCDTTM', 'JUNCTIONTYPE', 'SDOT_COLCODE',\n",
    "              'SDOT_COLDESC', 'PEDROWNOTGRNT', 'SDOTCOLNUM',\n",
    "              'ST_COLCODE', 'ST_COLDESC', 'SEGLANEKEY',\n",
    "              'CROSSWALKKEY', 'HITPARKEDCAR', 'PEDCOUNT', 'PEDCYLCOUNT',\n",
    "              'PERSONCOUNT', 'VEHCOUNT', 'COLLISIONTYPE',\n",
    "              'SPEEDING', 'UNDERINFL', 'INATTENTIONIND'])\n",
    "\n",
    "# Label Encoding\n",
    "# Convert column to category\n",
    "colData[\"WEATHER\"] = colData[\"WEATHER\"].astype('category')\n",
    "colData[\"ROADCOND\"] = colData[\"ROADCOND\"].astype('category')\n",
    "colData[\"LIGHTCOND\"] = colData[\"LIGHTCOND\"].astype('category')\n",
    "\n",
    "# Assign variable to new column for analysis\n",
    "colData[\"WEATHER_CAT\"] = colData[\"WEATHER\"].cat.codes\n",
    "colData[\"ROADCOND_CAT\"] = colData[\"ROADCOND\"].cat.codes\n",
    "colData[\"LIGHTCOND_CAT\"] = colData[\"LIGHTCOND\"].cat.codes\n",
    "\n",
    "colData.head(5)"
   ]
  },
  {
   "cell_type": "code",
   "execution_count": 11,
   "metadata": {},
   "outputs": [
    {
     "data": {
      "text/plain": [
       "SEVERITYCODE        int64\n",
       "WEATHER          category\n",
       "ROADCOND         category\n",
       "LIGHTCOND        category\n",
       "WEATHER_CAT          int8\n",
       "ROADCOND_CAT         int8\n",
       "LIGHTCOND_CAT        int8\n",
       "dtype: object"
      ]
     },
     "execution_count": 11,
     "metadata": {},
     "output_type": "execute_result"
    }
   ],
   "source": [
    "colData.dtypes"
   ]
  },
  {
   "cell_type": "markdown",
   "metadata": {},
   "source": [
    "# Balancing the Dataset\n",
    "Our target variable SEVERITYCODE is only 42% balanced. In fact, severitycode in class 1 is nearly three times the size of class 2.\n",
    "\n",
    "We can fix this by downsampling the majority class.\n",
    "\n",
    "Down-sample Majority Class\n",
    "Down-sampling involves randomly removing observations from the majority class to prevent its signal from dominating the learning algorithm.\n",
    "\n",
    "The most common heuristic for doing so is resampling without replacement.\n",
    "\n",
    "The process is similar to that of up-sampling. Here are the steps:\n",
    "\n",
    "1.First, we'll separate observations from each class into different DataFrames.\n",
    "2.Next, we'll resample the majority class without replacement, setting the number of samples to match that of the minority class.\n",
    "3.Finally, we'll combine the down-sampled majority class DataFrame with the original minority class DataFrame."
   ]
  },
  {
   "cell_type": "code",
   "execution_count": 12,
   "metadata": {},
   "outputs": [],
   "source": [
    "from sklearn.utils import resample"
   ]
  },
  {
   "cell_type": "code",
   "execution_count": 13,
   "metadata": {},
   "outputs": [
    {
     "data": {
      "text/plain": [
       "2    58188\n",
       "1    58188\n",
       "Name: SEVERITYCODE, dtype: int64"
      ]
     },
     "execution_count": 13,
     "metadata": {},
     "output_type": "execute_result"
    }
   ],
   "source": [
    "\n",
    "# Seperate majority and minority classes\n",
    "colData_majority = colData[colData.SEVERITYCODE==1]\n",
    "colData_minority = colData[colData.SEVERITYCODE==2]\n",
    "\n",
    "#Downsample majority class\n",
    "colData_majority_downsampled = resample(colData_majority,\n",
    "                                        replace=False,\n",
    "                                        n_samples=58188,\n",
    "                                        random_state=123)\n",
    "\n",
    "# Combine minority class with downsampled majority class\n",
    "colData_balanced = pd.concat([colData_majority_downsampled, colData_minority])\n",
    "\n",
    "# Display new class counts\n",
    "colData_balanced.SEVERITYCODE.value_counts()"
   ]
  },
  {
   "cell_type": "code",
   "execution_count": 14,
   "metadata": {},
   "outputs": [
    {
     "data": {
      "text/plain": [
       "(116376, 7)"
      ]
     },
     "execution_count": 14,
     "metadata": {},
     "output_type": "execute_result"
    }
   ],
   "source": [
    "colData_balanced.shape"
   ]
  },
  {
   "cell_type": "code",
   "execution_count": 15,
   "metadata": {},
   "outputs": [
    {
     "data": {
      "text/html": [
       "<div>\n",
       "<style scoped>\n",
       "    .dataframe tbody tr th:only-of-type {\n",
       "        vertical-align: middle;\n",
       "    }\n",
       "\n",
       "    .dataframe tbody tr th {\n",
       "        vertical-align: top;\n",
       "    }\n",
       "\n",
       "    .dataframe thead th {\n",
       "        text-align: right;\n",
       "    }\n",
       "</style>\n",
       "<table border=\"1\" class=\"dataframe\">\n",
       "  <thead>\n",
       "    <tr style=\"text-align: right;\">\n",
       "      <th></th>\n",
       "      <th>SEVERITYCODE</th>\n",
       "      <th>WEATHER</th>\n",
       "      <th>ROADCOND</th>\n",
       "      <th>LIGHTCOND</th>\n",
       "      <th>WEATHER_CAT</th>\n",
       "      <th>ROADCOND_CAT</th>\n",
       "      <th>LIGHTCOND_CAT</th>\n",
       "    </tr>\n",
       "  </thead>\n",
       "  <tbody>\n",
       "    <tr>\n",
       "      <th>25055</th>\n",
       "      <td>1</td>\n",
       "      <td>Raining</td>\n",
       "      <td>Wet</td>\n",
       "      <td>Dark - Street Lights On</td>\n",
       "      <td>6</td>\n",
       "      <td>8</td>\n",
       "      <td>2</td>\n",
       "    </tr>\n",
       "    <tr>\n",
       "      <th>65280</th>\n",
       "      <td>1</td>\n",
       "      <td>Clear</td>\n",
       "      <td>Dry</td>\n",
       "      <td>Daylight</td>\n",
       "      <td>1</td>\n",
       "      <td>0</td>\n",
       "      <td>5</td>\n",
       "    </tr>\n",
       "    <tr>\n",
       "      <th>86292</th>\n",
       "      <td>1</td>\n",
       "      <td>Unknown</td>\n",
       "      <td>Unknown</td>\n",
       "      <td>Unknown</td>\n",
       "      <td>10</td>\n",
       "      <td>7</td>\n",
       "      <td>8</td>\n",
       "    </tr>\n",
       "    <tr>\n",
       "      <th>155111</th>\n",
       "      <td>1</td>\n",
       "      <td>Clear</td>\n",
       "      <td>Dry</td>\n",
       "      <td>Daylight</td>\n",
       "      <td>1</td>\n",
       "      <td>0</td>\n",
       "      <td>5</td>\n",
       "    </tr>\n",
       "    <tr>\n",
       "      <th>64598</th>\n",
       "      <td>1</td>\n",
       "      <td>Clear</td>\n",
       "      <td>Dry</td>\n",
       "      <td>Daylight</td>\n",
       "      <td>1</td>\n",
       "      <td>0</td>\n",
       "      <td>5</td>\n",
       "    </tr>\n",
       "  </tbody>\n",
       "</table>\n",
       "</div>"
      ],
      "text/plain": [
       "        SEVERITYCODE  WEATHER ROADCOND                LIGHTCOND  WEATHER_CAT  \\\n",
       "25055              1  Raining      Wet  Dark - Street Lights On            6   \n",
       "65280              1    Clear      Dry                 Daylight            1   \n",
       "86292              1  Unknown  Unknown                  Unknown           10   \n",
       "155111             1    Clear      Dry                 Daylight            1   \n",
       "64598              1    Clear      Dry                 Daylight            1   \n",
       "\n",
       "        ROADCOND_CAT  LIGHTCOND_CAT  \n",
       "25055              8              2  \n",
       "65280              0              5  \n",
       "86292              7              8  \n",
       "155111             0              5  \n",
       "64598              0              5  "
      ]
     },
     "execution_count": 15,
     "metadata": {},
     "output_type": "execute_result"
    }
   ],
   "source": [
    "colData_balanced.head()"
   ]
  },
  {
   "cell_type": "code",
   "execution_count": 17,
   "metadata": {},
   "outputs": [
    {
     "data": {
      "text/plain": [
       "<seaborn.axisgrid.PairGrid at 0x125022d6278>"
      ]
     },
     "execution_count": 17,
     "metadata": {},
     "output_type": "execute_result"
    },
    {
     "data": {
      "image/png": "[encoded data removed]",
      "text/plain": [
       "<Figure size 720x720 with 20 Axes>"
      ]
     },
     "metadata": {},
     "output_type": "display_data"
    }
   ],
   "source": [
    "import seaborn as sns\n",
    "sns.pairplot(colData)"
   ]
  },
  {
   "cell_type": "markdown",
   "metadata": {},
   "source": [
    "# Methodology"
   ]
  },
  {
   "cell_type": "markdown",
   "metadata": {},
   "source": [
    "Our data is now ready to be fed into machine learning models.\n",
    "\n",
    "We will use the following models:"
   ]
  },
  {
   "cell_type": "markdown",
   "metadata": {},
   "source": [
    "# K-Nearest Neighbour"
   ]
  },
  {
   "cell_type": "markdown",
   "metadata": {},
   "source": [
    "KNN will help us predict the severity code of an outcome by finding the most similar to data point within k distance."
   ]
  },
  {
   "cell_type": "markdown",
   "metadata": {},
   "source": [
    "## Decision tree"
   ]
  },
  {
   "cell_type": "markdown",
   "metadata": {},
   "source": [
    "A decision tree model gives us a layout of all possible outcomes so we can fully analyze the consequences of a decision. It context, the decision tree observes all possible outcomes of different weather conditions."
   ]
  },
  {
   "cell_type": "markdown",
   "metadata": {},
   "source": [
    "## Logistic Regression"
   ]
  },
  {
   "cell_type": "markdown",
   "metadata": {},
   "source": [
    "Because our dataset only provides us with two severity code outcomes, our model will only predict one of those two classes. This makes our data binary, which is perfect to use with logistic regression."
   ]
  },
  {
   "cell_type": "markdown",
   "metadata": {},
   "source": [
    "## Initialization"
   ]
  },
  {
   "cell_type": "markdown",
   "metadata": {},
   "source": [
    "### Define X and Y"
   ]
  },
  {
   "cell_type": "code",
   "execution_count": 19,
   "metadata": {},
   "outputs": [
    {
     "data": {
      "text/plain": [
       "array([[ 6,  8,  2],\n",
       "       [ 1,  0,  5],\n",
       "       [10,  7,  8],\n",
       "       [ 1,  0,  5],\n",
       "       [ 1,  0,  5]], dtype=int8)"
      ]
     },
     "execution_count": 19,
     "metadata": {},
     "output_type": "execute_result"
    }
   ],
   "source": [
    "X = np.asarray(colData_balanced[['WEATHER_CAT', 'ROADCOND_CAT', 'LIGHTCOND_CAT']])\n",
    "X[0:5]"
   ]
  },
  {
   "cell_type": "code",
   "execution_count": 20,
   "metadata": {},
   "outputs": [
    {
     "data": {
      "text/plain": [
       "array([1, 1, 1, 1, 1], dtype=int64)"
      ]
     },
     "execution_count": 20,
     "metadata": {},
     "output_type": "execute_result"
    }
   ],
   "source": [
    "y = np.asarray(colData_balanced['SEVERITYCODE'])\n",
    "y [0:5]"
   ]
  },
  {
   "cell_type": "code",
   "execution_count": 21,
   "metadata": {},
   "outputs": [
    {
     "name": "stderr",
     "output_type": "stream",
     "text": [
      "C:\\Users\\thoutampavan\\Anaconda3\\lib\\site-packages\\sklearn\\utils\\validation.py:475: DataConversionWarning: Data with input dtype int8 was converted to float64 by StandardScaler.\n",
      "  warnings.warn(msg, DataConversionWarning)\n",
      "C:\\Users\\thoutampavan\\Anaconda3\\lib\\site-packages\\sklearn\\utils\\validation.py:475: DataConversionWarning: Data with input dtype int8 was converted to float64 by StandardScaler.\n",
      "  warnings.warn(msg, DataConversionWarning)\n"
     ]
    },
    {
     "data": {
      "text/plain": [
       "array([[ 1.15236718,  1.52797946, -1.21648407],\n",
       "       [-0.67488   , -0.67084969,  0.42978835],\n",
       "       [ 2.61416492,  1.25312582,  2.07606076],\n",
       "       [-0.67488   , -0.67084969,  0.42978835],\n",
       "       [-0.67488   , -0.67084969,  0.42978835]])"
      ]
     },
     "execution_count": 21,
     "metadata": {},
     "output_type": "execute_result"
    }
   ],
   "source": [
    "from sklearn import preprocessing\n",
    "X = preprocessing.StandardScaler().fit(X).transform(X)\n",
    "X[0:5]"
   ]
  },
  {
   "cell_type": "code",
   "execution_count": 22,
   "metadata": {},
   "outputs": [
    {
     "name": "stdout",
     "output_type": "stream",
     "text": [
      "training set: (81463, 3) (81463,)\n",
      "testing set: (34913, 3) (34913,)\n"
     ]
    }
   ],
   "source": [
    "from sklearn.model_selection import train_test_split\n",
    "X_train,X_test,y_train,y_test = train_test_split(X,y,test_size = 0.3,random_state=4)\n",
    "print(\"training set:\",X_train.shape, y_train.shape)\n",
    "print(\"testing set:\",X_test.shape, y_test.shape)"
   ]
  },
  {
   "cell_type": "markdown",
   "metadata": {},
   "source": [
    "### KNN"
   ]
  },
  {
   "cell_type": "code",
   "execution_count": 23,
   "metadata": {},
   "outputs": [],
   "source": [
    "#BUILDING THE KNN MODEL\n",
    "from sklearn.neighbors import KNeighborsClassifier\n",
    "k = 25"
   ]
  },
  {
   "cell_type": "code",
   "execution_count": 24,
   "metadata": {},
   "outputs": [
    {
     "data": {
      "text/plain": [
       "array([2, 2, 1, 1, 2], dtype=int64)"
      ]
     },
     "execution_count": 24,
     "metadata": {},
     "output_type": "execute_result"
    }
   ],
   "source": [
    "#train model & predict\n",
    "neigh = KNeighborsClassifier(n_neighbors = k).fit(X_train,y_train)\n",
    "neigh\n",
    "\n",
    "Kyhat = neigh.predict(X_test)\n",
    "Kyhat[0:5]"
   ]
  },
  {
   "cell_type": "markdown",
   "metadata": {},
   "source": [
    "### Decision tree"
   ]
  },
  {
   "cell_type": "code",
   "execution_count": 25,
   "metadata": {},
   "outputs": [
    {
     "data": {
      "text/plain": [
       "DecisionTreeClassifier(class_weight=None, criterion='entropy', max_depth=7,\n",
       "            max_features=None, max_leaf_nodes=None,\n",
       "            min_impurity_decrease=0.0, min_impurity_split=None,\n",
       "            min_samples_leaf=1, min_samples_split=2,\n",
       "            min_weight_fraction_leaf=0.0, presort=False, random_state=None,\n",
       "            splitter='best')"
      ]
     },
     "execution_count": 25,
     "metadata": {},
     "output_type": "execute_result"
    }
   ],
   "source": [
    "#building the decision model and training\n",
    "from sklearn.tree import DecisionTreeClassifier\n",
    "colDataTree = DecisionTreeClassifier(criterion=\"entropy\", max_depth = 7)\n",
    "colDataTree\n",
    "colDataTree.fit(X_train,y_train)"
   ]
  },
  {
   "cell_type": "code",
   "execution_count": 26,
   "metadata": {},
   "outputs": [
    {
     "name": "stdout",
     "output_type": "stream",
     "text": [
      "[2 2 1 1 2]\n",
      "[2 2 1 1 1]\n"
     ]
    }
   ],
   "source": [
    "# predicting using decision tree\n",
    "DTyhat = colDataTree.predict(X_test)\n",
    "print (DTyhat[0:5])\n",
    "print (y_test[0:5])"
   ]
  },
  {
   "cell_type": "markdown",
   "metadata": {},
   "source": [
    "## Logistic Regression"
   ]
  },
  {
   "cell_type": "code",
   "execution_count": 27,
   "metadata": {},
   "outputs": [
    {
     "data": {
      "text/plain": [
       "LogisticRegression(C=6, class_weight=None, dual=False, fit_intercept=True,\n",
       "          intercept_scaling=1, max_iter=100, multi_class='ovr', n_jobs=1,\n",
       "          penalty='l2', random_state=None, solver='liblinear', tol=0.0001,\n",
       "          verbose=0, warm_start=False)"
      ]
     },
     "execution_count": 27,
     "metadata": {},
     "output_type": "execute_result"
    }
   ],
   "source": [
    "# Building the LR Model\n",
    "from sklearn.linear_model import LogisticRegression\n",
    "from sklearn.metrics import confusion_matrix\n",
    "LR = LogisticRegression(C=6, solver='liblinear').fit(X_train,y_train)\n",
    "LR"
   ]
  },
  {
   "cell_type": "code",
   "execution_count": 28,
   "metadata": {},
   "outputs": [
    {
     "data": {
      "text/plain": [
       "array([1, 2, 1, ..., 2, 2, 2], dtype=int64)"
      ]
     },
     "execution_count": 28,
     "metadata": {},
     "output_type": "execute_result"
    }
   ],
   "source": [
    "# Train Model & Predicr\n",
    "LRyhat = LR.predict(X_test)\n",
    "LRyhat"
   ]
  },
  {
   "cell_type": "code",
   "execution_count": 29,
   "metadata": {},
   "outputs": [
    {
     "data": {
      "text/plain": [
       "array([[0.57295252, 0.42704748],\n",
       "       [0.47065071, 0.52934929],\n",
       "       [0.67630201, 0.32369799],\n",
       "       ...,\n",
       "       [0.46929132, 0.53070868],\n",
       "       [0.47065071, 0.52934929],\n",
       "       [0.46929132, 0.53070868]])"
      ]
     },
     "execution_count": 29,
     "metadata": {},
     "output_type": "execute_result"
    }
   ],
   "source": [
    "yhat_prob = LR.predict_proba(X_test)\n",
    "yhat_prob"
   ]
  },
  {
   "cell_type": "markdown",
   "metadata": {},
   "source": [
    "## 1.1. Random forest"
   ]
  },
  {
   "cell_type": "markdown",
   "metadata": {},
   "source": [
    "To go a bit further I will develop a Random Forest model. A random forest fits a number of decision tree classifiers on various sub-samples of the dataset and uses averaging to improve the predictive accuracy and control over-fitting. The number of decision trees is specified with the n_estimators parameter.\\ An upside of this algorithm is its feature_importances_ atribut, it returns the impurity based feature importance."
   ]
  },
  {
   "cell_type": "code",
   "execution_count": 30,
   "metadata": {},
   "outputs": [],
   "source": [
    "from sklearn.ensemble import RandomForestClassifier\n",
    "#Evaluation Metrics\n",
    "import time\n",
    "from sklearn.metrics import accuracy_score, log_loss, jaccard_similarity_score, classification_report\n",
    "from sklearn.metrics import precision_score, recall_score, roc_curve"
   ]
  },
  {
   "cell_type": "code",
   "execution_count": 33,
   "metadata": {},
   "outputs": [
    {
     "name": "stdout",
     "output_type": "stream",
     "text": [
      "Jaccard : 0.5658064331337898 \n",
      "              precision    recall  f1-score   support\n",
      "\n",
      "          1       0.62      0.34      0.44     17409\n",
      "          2       0.55      0.79      0.65     17504\n",
      "\n",
      "avg / total       0.58      0.57      0.54     34913\n",
      "\n"
     ]
    }
   ],
   "source": [
    "#Evaluation\n",
    "\n",
    "model_rf = RandomForestClassifier(n_estimators=10, max_features=3, max_depth =12,criterion='entropy',random_state=0, n_jobs=-1)\n",
    "model_rf.fit(X_train,y_train)\n",
    "yhat_rf = model_rf.predict(X_test)\n",
    "jaccard_rf = jaccard_similarity_score(y_test,yhat_rf)\n",
    "c_rf = classification_report(y_test,yhat_rf)\n",
    "prec_rf = precision_score(y_test, yhat_rf)\n",
    "rec_rf = recall_score(y_test, yhat_rf)\n",
    "print('Jaccard :',jaccard_rf,'\\n',\n",
    "     c_rf)"
   ]
  },
  {
   "cell_type": "markdown",
   "metadata": {},
   "source": [
    "# Results & Evaluation"
   ]
  },
  {
   "cell_type": "markdown",
   "metadata": {},
   "source": [
    "Now we will check the accuracy of our models."
   ]
  },
  {
   "cell_type": "code",
   "execution_count": 34,
   "metadata": {},
   "outputs": [],
   "source": [
    "from sklearn.metrics import jaccard_similarity_score\n",
    "from sklearn.metrics import f1_score\n",
    "from sklearn.metrics import log_loss"
   ]
  },
  {
   "cell_type": "markdown",
   "metadata": {},
   "source": [
    "### K-Nearest Neighbor"
   ]
  },
  {
   "cell_type": "code",
   "execution_count": 35,
   "metadata": {},
   "outputs": [
    {
     "data": {
      "text/plain": [
       "0.564001947698565"
      ]
     },
     "execution_count": 35,
     "metadata": {},
     "output_type": "execute_result"
    }
   ],
   "source": [
    "# Jaccard Similarity Score\n",
    "jaccard_similarity_score(y_test, Kyhat)"
   ]
  },
  {
   "cell_type": "code",
   "execution_count": 36,
   "metadata": {},
   "outputs": [
    {
     "data": {
      "text/plain": [
       "0.5401775308974308"
      ]
     },
     "execution_count": 36,
     "metadata": {},
     "output_type": "execute_result"
    }
   ],
   "source": [
    "# F1-SCORE\n",
    "f1_score(y_test, Kyhat, average='macro')"
   ]
  },
  {
   "cell_type": "markdown",
   "metadata": {},
   "source": [
    "Model is most accurate when k is 25"
   ]
  },
  {
   "cell_type": "markdown",
   "metadata": {},
   "source": [
    "### Decision tree"
   ]
  },
  {
   "cell_type": "code",
   "execution_count": 37,
   "metadata": {},
   "outputs": [
    {
     "data": {
      "text/plain": [
       "0.5664365709048206"
      ]
     },
     "execution_count": 37,
     "metadata": {},
     "output_type": "execute_result"
    }
   ],
   "source": [
    "# Jaccard Similarity Score\n",
    "jaccard_similarity_score(y_test, DTyhat)"
   ]
  },
  {
   "cell_type": "code",
   "execution_count": 38,
   "metadata": {},
   "outputs": [
    {
     "data": {
      "text/plain": [
       "0.5450597937389444"
      ]
     },
     "execution_count": 38,
     "metadata": {},
     "output_type": "execute_result"
    }
   ],
   "source": [
    "# F1-SCORE\n",
    "f1_score(y_test, DTyhat, average='macro')"
   ]
  },
  {
   "cell_type": "markdown",
   "metadata": {},
   "source": [
    "model is more accurate at depth is 7"
   ]
  },
  {
   "cell_type": "markdown",
   "metadata": {},
   "source": [
    "### Logistic Regression"
   ]
  },
  {
   "cell_type": "code",
   "execution_count": 39,
   "metadata": {},
   "outputs": [
    {
     "data": {
      "text/plain": [
       "0.5260218256809784"
      ]
     },
     "execution_count": 39,
     "metadata": {},
     "output_type": "execute_result"
    }
   ],
   "source": [
    "# Jaccard Similarity Score\n",
    "jaccard_similarity_score(y_test, LRyhat)"
   ]
  },
  {
   "cell_type": "code",
   "execution_count": 40,
   "metadata": {},
   "outputs": [
    {
     "data": {
      "text/plain": [
       "0.511602093963383"
      ]
     },
     "execution_count": 40,
     "metadata": {},
     "output_type": "execute_result"
    }
   ],
   "source": [
    "# F1-SCORE\n",
    "f1_score(y_test, LRyhat, average='macro')"
   ]
  },
  {
   "cell_type": "code",
   "execution_count": 41,
   "metadata": {},
   "outputs": [
    {
     "data": {
      "text/plain": [
       "0.6849535383198887"
      ]
     },
     "execution_count": 41,
     "metadata": {},
     "output_type": "execute_result"
    }
   ],
   "source": [
    "# LOGLOSS\n",
    "yhat_prob = LR.predict_proba(X_test)\n",
    "log_loss(y_test, yhat_prob)"
   ]
  },
  {
   "cell_type": "markdown",
   "metadata": {},
   "source": [
    "model is more accurate when hyperparameter C is 6"
   ]
  },
  {
   "cell_type": "markdown",
   "metadata": {},
   "source": [
    "## Results"
   ]
  },
  {
   "cell_type": "markdown",
   "metadata": {},
   "source": [
    "With no doubt the Random Forest is the best model, in the same time as the log. res. it improves the accuracy from 0.56 to 0.65 and the f1-score from 0.511 to 0.57."
   ]
  },
  {
   "cell_type": "markdown",
   "metadata": {},
   "source": [
    "## Discussion"
   ]
  },
  {
   "cell_type": "markdown",
   "metadata": {},
   "source": [
    "In the beginning of this notebook, we had categorical data that was of type 'object'. This is not a data type that we could have fed through an algorithm, so label encoding was used to created new classes that were of type int8; a numerical data type.\n",
    "\n",
    "After solving that issue we were presented with another - imbalanced data. As mentioned earlier, class 1 was nearly three times larger than class 2. The solution to this was downsampling the majority class with sklearn's resample tool. We downsampled to match the minority class exactly with 58188 values each.\n",
    "\n",
    "Once we analyzed and cleaned the data, it was then fed through three ML models; K-Nearest Neighbor, Decision Tree and Logistic Regression. Although the first two are ideal for this project, logistic regression made the most sense because of its binary nature.\n",
    "\n",
    "Evaluation metrics used to test the accuracy of our models were jaccard index, f-1 score and logloss for logistic regression. Choosing different k, max depth and hyperamater C values helped to improve our accuracy to be the best possible."
   ]
  },
  {
   "cell_type": "markdown",
   "metadata": {},
   "source": []
  },
  {
   "cell_type": "markdown",
   "metadata": {},
   "source": [
    "# Conclusion"
   ]
  },
  {
   "cell_type": "markdown",
   "metadata": {},
   "source": [
    "#### In this study, I analyzed the relationship between severity of an accident and some characteristics which describe the situation that involved the accident. I identified the road condition,climate,lightning among the most important features that affect to the gravity of the accident. I built and compared 4 different classification models to predict whether an accident would have a high or low severity. These models can have multiple application in real life such as, Severity of a accident can be predicted in real time by using above data when an accident is reported and from there measures can be taken quickly."
   ]
  },
  {
   "cell_type": "code",
   "execution_count": null,
   "metadata": {},
   "outputs": [],
   "source": []
  }
 ],
 "metadata": {
  "kernelspec": {
   "display_name": "Python 3",
   "language": "python",
   "name": "python3"
  },
  "language_info": {
   "codemirror_mode": {
    "name": "ipython",
    "version": 3
   },
   "file_extension": ".py",
   "mimetype": "text/x-python",
   "name": "python",
   "nbconvert_exporter": "python",
   "pygments_lexer": "ipython3",
   "version": "3.6.5"
  }
 },
 "nbformat": 4,
 "nbformat_minor": 2
}
